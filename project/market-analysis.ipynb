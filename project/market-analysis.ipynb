{
 "cells": [
  {
   "cell_type": "markdown",
   "metadata": {},
   "source": [
    "# Market Analysis \n",
    "By Bayu Setia Ismawandani \n",
    " \n",
    "E-Commerce ...\n",
    "\n",
    "Bussines Questions:\n",
    "1. How's the sale's trend?\n",
    "2. What are the strategies to make the customers to be loyal?\n",
    "3. What are the top selling products and how will these products perfomed in the future?\n",
    "4. What are the strategies to promote the least selling products?\n",
    "5. What are the most popular payment methods?\n",
    "6. How is the correlation between the Review Scores and Delivery Time?"
   ]
  },
  {
   "cell_type": "code",
   "execution_count": 1,
   "metadata": {},
   "outputs": [],
   "source": [
    "import numpy as np"
   ]
  }
 ],
 "metadata": {
  "kernelspec": {
   "display_name": ".venv",
   "language": "python",
   "name": "python3"
  },
  "language_info": {
   "codemirror_mode": {
    "name": "ipython",
    "version": 3
   },
   "file_extension": ".py",
   "mimetype": "text/x-python",
   "name": "python",
   "nbconvert_exporter": "python",
   "pygments_lexer": "ipython3",
   "version": "3.11.6"
  }
 },
 "nbformat": 4,
 "nbformat_minor": 2
}
